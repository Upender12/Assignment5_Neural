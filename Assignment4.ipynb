{
  "nbformat": 4,
  "nbformat_minor": 0,
  "metadata": {
    "colab": {
      "provenance": [],
      "authorship_tag": "ABX9TyPUuVABQdOFCweOLztNtsmT",
      "include_colab_link": true
    },
    "kernelspec": {
      "name": "python3",
      "display_name": "Python 3"
    },
    "language_info": {
      "name": "python"
    }
  },
  "cells": [
    {
      "cell_type": "markdown",
      "metadata": {
        "id": "view-in-github",
        "colab_type": "text"
      },
      "source": [
        "<a href=\"https://colab.research.google.com/github/Upender12/Assignment5_Neural/blob/main/Assignment4.ipynb\" target=\"_parent\"><img src=\"https://colab.research.google.com/assets/colab-badge.svg\" alt=\"Open In Colab\"/></a>"
      ]
    },
    {
      "cell_type": "code",
      "execution_count": 2,
      "metadata": {
        "colab": {
          "base_uri": "https://localhost:8080/"
        },
        "id": "sb79x4_5_MY6",
        "outputId": "2b35694c-4508-49a8-f7e1-85e034a3c1a6"
      },
      "outputs": [
        {
          "output_type": "stream",
          "name": "stdout",
          "text": [
            "(214, 10)\n",
            "Naïve Bayes\n",
            "Total number of points: 43\n",
            "Mislabeled points : 24\n",
            "Accuracy 44.19%\n",
            "\n",
            "\n",
            "              precision    recall  f1-score   support\n",
            "\n",
            "           1       0.35      0.50      0.41        14\n",
            "           2       0.38      0.21      0.27        14\n",
            "           3       0.20      0.33      0.25         3\n",
            "           5       0.00      0.00      0.00         2\n",
            "           6       1.00      0.33      0.50         3\n",
            "           7       0.78      1.00      0.88         7\n",
            "\n",
            "    accuracy                           0.44        43\n",
            "   macro avg       0.45      0.40      0.38        43\n",
            "weighted avg       0.45      0.44      0.42        43\n",
            "\n",
            "Linear SVM accuracy is: 55.81\n",
            "SVM RBF model accuracy is: 32.56\n",
            "\n",
            "\n",
            "              precision    recall  f1-score   support\n",
            "\n",
            "           1       0.00      0.00      0.00        14\n",
            "           2       0.33      1.00      0.49        14\n",
            "           3       0.00      0.00      0.00         3\n",
            "           5       0.00      0.00      0.00         2\n",
            "           6       0.00      0.00      0.00         3\n",
            "           7       0.00      0.00      0.00         7\n",
            "\n",
            "    accuracy                           0.33        43\n",
            "   macro avg       0.05      0.17      0.08        43\n",
            "weighted avg       0.11      0.33      0.16        43\n",
            "\n"
          ]
        }
      ],
      "source": [
        "import pandas as pd\n",
        "from sklearn.svm import SVC\n",
        "from sklearn.naive_bayes import GaussianNB\n",
        "from sklearn.model_selection import train_test_split\n",
        "import time\n",
        "import warnings\n",
        "warnings.filterwarnings(\"ignore\")\n",
        "from sklearn import metrics\n",
        "# read the data\n",
        "data = pd.read_csv('/content/glass.csv')\n",
        "print(data.shape)\n",
        "X_train, X_test = train_test_split(\n",
        "    data, test_size=0.2, random_state=int(time.time()))\n",
        "# features columns\n",
        "features = [\n",
        "    \"RI\", \"Na\", \"Mg\", \"Al\", \"Si\", \"K\", \"Ca\", \"Ba\", \"Fe\"\n",
        "]\n",
        "# Naïve Bayes Classifier\n",
        "gauss = GaussianNB()\n",
        "# train the classifier\n",
        "gauss.fit(\n",
        "    X_train[features].values,\n",
        "    X_train[\"Type\"]\n",
        ")\n",
        "# make predictions\n",
        "y_pred = gauss.predict(X_test[features])\n",
        "print(\"Naïve Bayes\\nTotal number of points: {}\\nMislabeled points : {}\\nAccuracy {:05.2f}%\"\n",
        "      .format(\n",
        "          X_test.shape[0],\n",
        "          (X_test[\"Type\"] != y_pred).sum(),\n",
        "          100 * (1 - (X_test[\"Type\"] != y_pred).sum() / X_test.shape[0])\n",
        "      ))\n",
        "print(\"\\n\")\n",
        "# Naïve Bayes Classifier performance\n",
        "print(metrics.classification_report(X_test[\"Type\"], y_pred))\n",
        "# Linear Support Vector Classification\n",
        "svc_linear = SVC(kernel='linear')\n",
        "# train linear SVM model\n",
        "svc_linear.fit(\n",
        "    X_train[features].values,\n",
        "    X_train[\"Type\"]\n",
        ")\n",
        "Y_pred = svc_linear.predict(X_test[features])\n",
        "# Linear SVM Model performance\n",
        "acc_svc = round(svc_linear.score(\n",
        "    X_test[features].values, X_test[\"Type\"]) * 100, 2)\n",
        "print(\"Linear SVM accuracy is:\", acc_svc)\n",
        "# Support vector classifier (SVC) with the radial basis function kernel (RBF)\n",
        "svc_rbf = SVC(kernel='rbf')\n",
        "svc_rbf.fit(\n",
        "    X_train[features].values,\n",
        "    X_train[\"Type\"]\n",
        ")\n",
        "# model predictions\n",
        "Y_pred = svc_rbf.predict(X_test[features])\n",
        "# SVM RBF Model performance\n",
        "acc_svc = round(svc_rbf.score(\n",
        "    X_test[features].values, X_test[\"Type\"]) * 100, 2)\n",
        "print(\"SVM RBF model accuracy is:\", acc_svc)\n",
        "print(\"\\n\")\n",
        "print(metrics.classification_report(X_test[\"Type\"], Y_pred))"
      ]
    },
    {
      "cell_type": "code",
      "source": [],
      "metadata": {
        "id": "u8yOI_Yg_OlT"
      },
      "execution_count": null,
      "outputs": []
    }
  ]
}